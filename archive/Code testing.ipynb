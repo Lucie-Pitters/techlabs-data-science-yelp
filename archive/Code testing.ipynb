{
 "cells": [
  {
   "cell_type": "code",
   "execution_count": null,
   "metadata": {},
   "outputs": [],
   "source": [
    "import pandas as pd\n",
    "import re\n",
    "\n",
    "\n",
    "def remove_special_characters(text):\n",
    "    return re.sub(r\"[^A-Za-z0-9\\s]+\", \"\", text)\n",
    "\n",
    "\n",
    "try:\n",
    "    # Load the dataset from JSON\n",
    "    json_file_path = \"D:/TechLab Project/techlabs-data-science-yelp/data/reviews_2021-01.json\"  # Replace with actual file path\n",
    "    df_json = pd.read_json(\n",
    "        json_file_path, dtype=str, lines=True\n",
    "    )  # Load all columns as strings\n",
    "\n",
    "    # Convert all text data to lowercase and remove special characters except the first column (assumed to be 'business_id')\n",
    "    df_json.iloc[:, 1:] = df_json.iloc[:, 1:].applymap(\n",
    "        lambda x: remove_special_characters(x.lower()) if isinstance(x, str) else x\n",
    "    )\n",
    "\n",
    "    # Save the modified dataset back to JSON\n",
    "    modified_json_file_path = \"D:/TechLab Project/techlabs-data-science-yelp/data/reviews_2021-01_textcleaning.json\"\n",
    "    df_json.to_json(modified_json_file_path, orient=\"records\", lines=True)\n",
    "\n",
    "    print(f\"Modified file saved at: {modified_json_file_path}\")\n",
    "\n",
    "except FileNotFoundError:\n",
    "    print(f\"File not found: {json_file_path}\")\n",
    "except ValueError as e:\n",
    "    print(f\"Value error: {e}\")\n",
    "except Exception as e:\n",
    "    print(f\"An error occurred: {e}\")"
   ]
  },
  {
   "cell_type": "code",
   "execution_count": null,
   "metadata": {},
   "outputs": [],
   "source": [
    "import pandas as pd\n",
    "\n",
    "df = pd.read_json(\n",
    "    \"D:/TechLab Project/techlabs-data-science-yelp/data/reviews_2021-01_textcleaning.json\",\n",
    "    lines=True,\n",
    ")\n",
    "df.head()"
   ]
  }
 ],
 "metadata": {
  "kernelspec": {
   "display_name": "Python 3",
   "language": "python",
   "name": "python3"
  },
  "language_info": {
   "codemirror_mode": {
    "name": "ipython",
    "version": 3
   },
   "file_extension": ".py",
   "mimetype": "text/x-python",
   "name": "python",
   "nbconvert_exporter": "python",
   "pygments_lexer": "ipython3",
   "version": "3.13.0"
  }
 },
 "nbformat": 4,
 "nbformat_minor": 2
}
