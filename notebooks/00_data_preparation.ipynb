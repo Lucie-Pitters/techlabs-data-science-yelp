{
 "cells": [
  {
   "cell_type": "markdown",
   "metadata": {},
   "source": [
    "Data Preparation \n",
    "This notebook organizes Yelp reviews by month and year, saving the results to the specified output directory."
   ]
  },
  {
   "cell_type": "code",
   "execution_count": null,
   "metadata": {},
   "outputs": [],
   "source": [
    "import os\n",
    "import sys\n",
    "\n",
    "# --- Project Directory Setup ---\n",
    "# Get the parent directory (project root)\n",
    "sys.path.append(os.path.abspath(\"..\"))\n",
    "from src1 import organize_reviews_by_time, save_reviews_by_time"
   ]
  },
  {
   "cell_type": "code",
   "execution_count": null,
   "metadata": {},
   "outputs": [],
   "source": [
    "# Define input/output directories using relative paths\n",
    "base_dir = os.path.abspath(os.path.join(os.getcwd(), \"..\"))\n",
    "input_dir = os.path.join(base_dir, \"data\", \"raw\")\n",
    "output_dir = os.path.join(base_dir, \"data\", \"raw\")\n",
    "\n",
    "# Define input file path (relative to your script location)\n",
    "input_filename = \"yelp_academic_dataset_review.json\"\n",
    "input_file = os.path.join(input_dir, input_filename)\n",
    "\n",
    "# --- Organize Reviews by Month ---\n",
    "reviews_by_month = organize_reviews_by_time(input_file, time_format=\"month\")\n",
    "save_reviews_by_time(reviews_by_month, output_dir, time_format=\"month\")\n",
    "\n",
    "# --- Organize Reviews by Year ---\n",
    "reviews_by_year = organize_reviews_by_time(input_file, time_format=\"year\")\n",
    "save_reviews_by_time(reviews_by_year, output_dir, time_format=\"year\")"
   ]
  },
  {
   "cell_type": "markdown",
   "metadata": {},
   "source": []
  }
 ],
 "metadata": {
  "kernelspec": {
   "display_name": "base",
   "language": "python",
   "name": "python3"
  },
  "language_info": {
   "codemirror_mode": {
    "name": "ipython",
    "version": 3
   },
   "file_extension": ".py",
   "mimetype": "text/x-python",
   "name": "python",
   "nbconvert_exporter": "python",
   "pygments_lexer": "ipython3",
   "version": "3.12.7"
  }
 },
 "nbformat": 4,
 "nbformat_minor": 2
}
