{
 "cells": [
  {
   "cell_type": "markdown",
   "metadata": {},
   "source": [
    "Results \n",
    "This notebook shows some visualizations for our review data and creates a metric file in data/processed"
   ]
  },
  {
   "cell_type": "code",
   "execution_count": null,
   "metadata": {},
   "outputs": [],
   "source": [
    "import json\n",
    "import pandas as pd\n",
    "import numpy as np\n",
    "import matplotlib.pyplot as plt\n",
    "import seaborn as sns\n",
    "from collections import Counter\n",
    "import nltk\n",
    "import os\n",
    "from nltk.corpus import stopwords\n",
    "from wordcloud import WordCloud"
   ]
  },
  {
   "cell_type": "code",
   "execution_count": null,
   "metadata": {},
   "outputs": [],
   "source": [
    "# Ensure necessary NLTK resources are downloaded\n",
    "nltk.download(\"stopwords\")\n",
    "\n",
    "# Load the processed dataset with sentiment labels\n",
    "base_dir = os.path.abspath(os.path.join(os.getcwd(), \"..\"))\n",
    "input_dir = os.path.join(base_dir, \"data\", \"intermediate\")\n",
    "output_dir = os.path.join(base_dir, \"data\", \"processed\")\n",
    "file_path = os.path.join(input_dir, \"reviews_with_sentiment.json\")\n",
    "processed_file_path = os.path.join(input_dir, \"processed_reviews_tokens.json\")\n",
    "\n",
    "# Read JSON file into a DataFrame\n",
    "df = pd.read_json(file_path, lines=True)\n",
    "\n",
    "# Define stopwords for word cloud generation\n",
    "stop_words = set(stopwords.words(\"english\"))"
   ]
  },
  {
   "cell_type": "code",
   "execution_count": null,
   "metadata": {},
   "outputs": [],
   "source": [
    "# 1️⃣ Bar Chart of Sentiment Distribution\n",
    "plt.figure(figsize=(8, 5))\n",
    "sns.countplot(\n",
    "    x=df[\"sentiment\"], palette=\"coolwarm\", order=[\"positive\", \"neutral\", \"negative\"]\n",
    ")\n",
    "plt.title(\"Sentiment Distribution\")\n",
    "plt.xlabel(\"Sentiment Category\")\n",
    "plt.ylabel(\"Number of Reviews\")\n",
    "plt.show()"
   ]
  },
  {
   "cell_type": "code",
   "execution_count": null,
   "metadata": {},
   "outputs": [],
   "source": [
    "# 2️⃣ Compare Sentiment with Star Ratings\n",
    "plt.figure(figsize=(10, 6))\n",
    "sns.countplot(x=df[\"stars\"], hue=df[\"sentiment\"], palette=\"coolwarm\")\n",
    "plt.title(\"Sentiment vs. Star Ratings\")\n",
    "plt.xlabel(\"Star Rating\")\n",
    "plt.ylabel(\"Number of Reviews\")\n",
    "plt.legend(title=\"Sentiment\")\n",
    "plt.show()"
   ]
  },
  {
   "cell_type": "code",
   "execution_count": null,
   "metadata": {},
   "outputs": [],
   "source": [
    "# 3️⃣ WordCloud of Most Common Words in Each Sentiment Category\n",
    "def generate_wordcloud(sentiment_label):\n",
    "    \"\"\"\n",
    "    Generates a word cloud for the most common words in reviews of a given sentiment label.\n",
    "    \"\"\"\n",
    "    text = \" \".join(df[df[\"sentiment\"] == sentiment_label][\"text\"])\n",
    "    words = [word.lower() for word in text.split() if word.lower() not in stop_words]\n",
    "    word_freq = Counter(words)\n",
    "    wordcloud = WordCloud(\n",
    "        width=800, height=400, background_color=\"white\"\n",
    "    ).generate_from_frequencies(word_freq)\n",
    "\n",
    "    plt.figure(figsize=(10, 5))\n",
    "    plt.imshow(wordcloud, interpolation=\"bilinear\")\n",
    "    plt.axis(\"off\")\n",
    "    plt.title(f\"Most Common Words in {sentiment_label.capitalize()} Reviews\")\n",
    "    plt.show()\n",
    "\n",
    "\n",
    "# Generate WordClouds for each sentiment category\n",
    "for sentiment in [\"positive\", \"neutral\", \"negative\"]:\n",
    "    generate_wordcloud(sentiment)"
   ]
  },
  {
   "cell_type": "code",
   "execution_count": null,
   "metadata": {},
   "outputs": [],
   "source": [
    "# 4️⃣ Review Length Statistics\n",
    "\n",
    "with open(processed_file_path, \"r\") as file:\n",
    "    data = [json.loads(line) for line in file]\n",
    "\n",
    "# Extract review lengths\n",
    "review_lengths = [len(review[\"processed_text\"][\"tokens\"]) for review in data]\n",
    "\n",
    "# Compute other metrics\n",
    "total_words = sum(review_lengths)\n",
    "unique_words = len(\n",
    "    set([word for review in data for word in review[\"processed_text\"][\"tokens\"]])\n",
    ")\n",
    "vocabulary_richness = unique_words / total_words if total_words > 0 else 0\n",
    "average_review_length = np.mean(review_lengths)\n",
    "median_review_length = np.median(review_lengths)\n",
    "max_review_length = np.max(review_lengths)\n",
    "min_review_length = np.min(review_lengths)\n",
    "\n",
    "# Create a DataFrame to store the metrics\n",
    "metrics_data = {\n",
    "    \"Average Review Length\": [average_review_length],\n",
    "    \"Median Review Length\": [median_review_length],\n",
    "    \"Max Review Length\": [max_review_length],\n",
    "    \"Min Review Length\": [min_review_length],\n",
    "    \"Total Words\": [total_words],\n",
    "    \"Unique Words\": [unique_words],\n",
    "    \"Vocabulary Richness\": [vocabulary_richness],\n",
    "}\n",
    "\n",
    "metrics_df = pd.DataFrame(metrics_data)\n",
    "\n",
    "# Save metrics to a CSV file\n",
    "metrics_file_path = os.path.join(output_dir, \"review_metrics.csv\")\n",
    "metrics_df.to_csv(metrics_file_path, index=False)\n",
    "\n",
    "# Display the metrics DataFrame\n",
    "print(metrics_df)"
   ]
  },
  {
   "cell_type": "code",
   "execution_count": null,
   "metadata": {},
   "outputs": [],
   "source": [
    "# 5️⃣ WordCloud of Frequent Words from Lemmatized Tokens\n",
    "# Extract all words from lemmatized tokens\n",
    "all_lemmatized = [\n",
    "    token for review in data for token in review[\"processed_text\"][\"lemmatized\"]\n",
    "]\n",
    "\n",
    "# Create a word frequency dictionary for lemmatized tokens\n",
    "word_freq = Counter(all_lemmatized)\n",
    "\n",
    "# Generate a word cloud from the lemmatized tokens\n",
    "wordcloud = WordCloud(\n",
    "    width=800, height=400, background_color=\"white\"\n",
    ").generate_from_frequencies(word_freq)\n",
    "\n",
    "# Display the word cloud\n",
    "plt.figure(figsize=(10, 5))\n",
    "plt.imshow(wordcloud, interpolation=\"bilinear\")\n",
    "plt.axis(\"off\")  # Hide axes\n",
    "plt.title(\"Most Frequent Lemmatized Words in Reviews\")\n",
    "plt.show()"
   ]
  }
 ],
 "metadata": {
  "kernelspec": {
   "display_name": "Python 3",
   "language": "python",
   "name": "python3"
  },
  "language_info": {
   "codemirror_mode": {
    "name": "ipython",
    "version": 3
   },
   "file_extension": ".py",
   "mimetype": "text/x-python",
   "name": "python",
   "nbconvert_exporter": "python",
   "pygments_lexer": "ipython3",
   "version": "3.10.11"
  }
 },
 "nbformat": 4,
 "nbformat_minor": 2
}
